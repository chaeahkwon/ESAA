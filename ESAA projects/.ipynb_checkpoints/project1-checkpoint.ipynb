{
 "cells": [
  {
   "cell_type": "code",
   "execution_count": 1,
   "metadata": {},
   "outputs": [],
   "source": [
    "import pandas as pd\n",
    "import numpy as np"
   ]
  },
  {
   "cell_type": "markdown",
   "metadata": {},
   "source": [
    "#### 파일 불러오기"
   ]
  },
  {
   "cell_type": "code",
   "execution_count": 2,
   "metadata": {},
   "outputs": [],
   "source": [
    "input_fd = open('C:/Users/user/ESAA/youtube-new/KRvideos.csv',errors = 'backslashreplace',encoding='utf-8')\n",
    "KR = pd.read_csv(input_fd, sep=',')\n",
    "\n",
    "input_fd = open('C:/Users/user/ESAA/youtube-new/JPvideos.csv', errors = 'backslashreplace',encoding='utf-8')\n",
    "JP = pd.read_csv(input_fd, sep=',')\n",
    "\n",
    "US = pd.read_csv('C:/Users/user/ESAA/youtube-new/USvideos.csv', sep=',')"
   ]
  },
  {
   "cell_type": "markdown",
   "metadata": {},
   "source": [
    "#### 파일이 잘 입력되었는지, 문자 깨짐은 없는지 확인 "
   ]
  },
  {
   "cell_type": "code",
   "execution_count": 3,
   "metadata": {},
   "outputs": [
    {
     "name": "stdout",
     "output_type": "stream",
     "text": [
      "(34567, 16)\n",
      "(20523, 16)\n",
      "(40949, 16)\n"
     ]
    }
   ],
   "source": [
    "print(KR.shape)\n",
    "print(JP.shape)\n",
    "print(US.shape)"
   ]
  },
  {
   "cell_type": "code",
   "execution_count": 4,
   "metadata": {},
   "outputs": [
    {
     "name": "stdout",
     "output_type": "stream",
     "text": [
      "      video_id trending_date                       title channel_title  \\\n",
      "0  RxGQe4EeEpA      17.14.11          좋아 by 민서_윤종신_좋니 답가        라푸마코리아   \n",
      "1  hH7wVE8OlQ0      17.14.11            JSA 귀순 북한군 총격 부상        Edward   \n",
      "2  9V8bnWUmE9U      17.14.11  나몰라패밀리 운동화 영상 2탄 (빼빼로데이버젼)     나몰라패밀리 핫쇼   \n",
      "3  0_8py-t5R80      17.14.11  이명박 출국 현장, 놓치면 안되는 장면         미디어몽구   \n",
      "4  bk55RbxiQdI      17.14.11     김장겸은 물러갔다 MBC 노조 환호와 눈물        NocutV   \n",
      "\n",
      "   category_id              publish_time  \\\n",
      "0           22  2017-11-13T07:07:36.000Z   \n",
      "1           25  2017-11-13T10:59:16.000Z   \n",
      "2           22  2017-11-11T07:16:08.000Z   \n",
      "3           25  2017-11-12T11:19:52.000Z   \n",
      "4           25  2017-11-13T11:08:59.000Z   \n",
      "\n",
      "                                                tags   views  likes  dislikes  \\\n",
      "0                      라푸마|\"윤종신\"|\"좋니\"|\"좋아\"|\"샬레\"|\"민서\"  156130   1422        40   \n",
      "1        JSA|\"귀순\"|\"북한군\"|\"총격\"|\"부상\"|\"JSA 귀순 북한군 총격 부상\"   76533    211        28   \n",
      "2                아디다스|\"빼빼로\"|\"핫쇼\"|\"나몰라패밀리\"|\"대학로\"|\"공연\"  421409   5112       166   \n",
      "3  이명박|\"이명박 출국금지\"|\"이명박 출국현장\"|\"이명박 바레인\"|\"이명박 대통령\"|...  222850   2093       173   \n",
      "4          nocutV|\"노컷V\"|\"CBS\"|\"mbc\"|\"김장겸\"|\"해임\"|\"허일후\"   84466   1094       109   \n",
      "\n",
      "   comment_count                                  thumbnail_link  \\\n",
      "0            272  https://i.ytimg.com/vi/RxGQe4EeEpA/default.jpg   \n",
      "1            113  https://i.ytimg.com/vi/hH7wVE8OlQ0/default.jpg   \n",
      "2            459  https://i.ytimg.com/vi/9V8bnWUmE9U/default.jpg   \n",
      "3           1219  https://i.ytimg.com/vi/0_8py-t5R80/default.jpg   \n",
      "4            450  https://i.ytimg.com/vi/bk55RbxiQdI/default.jpg   \n",
      "\n",
      "   comments_disabled  ratings_disabled  video_error_or_removed  \\\n",
      "0              False             False                   False   \n",
      "1              False             False                   False   \n",
      "2              False             False                   False   \n",
      "3              False             False                   False   \n",
      "4              False             False                   False   \n",
      "\n",
      "                                         description  \n",
      "0  윤종신 '좋니'의 답가 '좋아' 최초 공개!\\n그 여자의 이야기를 지금 만나보세요....  \n",
      "1  [채널A단독]北 병사 현재 '의식불명'… 혈압 떨어지는 중 \\n[채널A단독]우리측 ...  \n",
      "2                                    퍼가실때 꼭 출처 부탁드려요  \n",
      "3                                다스는 누구겁니까 듣고 난 후 표정  \n",
      "4  김장겸 MBC 사장이 결국 해임됐다.\\n\\nMBC 대주주인 방송문화진흥회는 13일 ...  \n",
      "      video_id trending_date                                      title  \\\n",
      "0  5ugKfHgsmYw      18.07.02                         陸自ヘリ、垂直に落下＝路上の車が撮影   \n",
      "1  ohObafdd34Y      18.07.02                     イッテQ お祭り男宮川×手越 巨大ブランコ②   \n",
      "2  aBr2kKAHN6M      18.07.02                      Live Views of Starman   \n",
      "3  5wNnwChvmsQ      18.07.02                 東京ディズニーリゾートの元キャストが暴露した秘密5選   \n",
      "4  B7J47qFvdsk      18.07.02  榮倉奈々、衝撃の死んだふり！映画『家に帰ると妻が必ず死んだふりをしています。』特報   \n",
      "\n",
      "          channel_title  category_id              publish_time  \\\n",
      "0            時事通信映像センター           25  2018-02-06T03:04:37.000Z   \n",
      "1  神谷えりな Kamiya Erina 2            1  2018-02-06T04:01:56.000Z   \n",
      "2                SpaceX           28  2018-02-06T21:38:22.000Z   \n",
      "3               アシタノワダイ           25  2018-02-06T06:08:49.000Z   \n",
      "4               シネマトゥデイ            1  2018-02-06T02:30:00.000Z   \n",
      "\n",
      "                                                tags    views   likes  \\\n",
      "0  事故|\"佐賀\"|\"佐賀県\"|\"ヘリコプター\"|\"ヘリ\"|\"自衛隊\"|\"墜落\"|\"落下\"|\"現...   188085     591   \n",
      "1                                             [none]    90929     442   \n",
      "2                                             [none]  6408303  165892   \n",
      "3                                            アシタノワダイ    96255    1165   \n",
      "4                                             [none]   108408    1336   \n",
      "\n",
      "   dislikes  comment_count                                  thumbnail_link  \\\n",
      "0       189              0  https://i.ytimg.com/vi/5ugKfHgsmYw/default.jpg   \n",
      "1        88            174  https://i.ytimg.com/vi/ohObafdd34Y/default.jpg   \n",
      "2      2331           3006  https://i.ytimg.com/vi/aBr2kKAHN6M/default.jpg   \n",
      "3       277            545  https://i.ytimg.com/vi/5wNnwChvmsQ/default.jpg   \n",
      "4        74            201  https://i.ytimg.com/vi/B7J47qFvdsk/default.jpg   \n",
      "\n",
      "   comments_disabled  ratings_disabled  video_error_or_removed  \\\n",
      "0               True             False                   False   \n",
      "1              False             False                   False   \n",
      "2              False             False                   False   \n",
      "3              False             False                   False   \n",
      "4              False             False                   False   \n",
      "\n",
      "                                         description  \n",
      "0  佐賀県神埼市の民家に墜落した陸上自衛隊のＡＨ６４Ｄ戦闘ヘリコプターが垂直に落下する様子を、近...  \n",
      "1                                                NaN  \n",
      "2                                                NaN  \n",
      "3  東京ディズニーリゾートの元キャストが暴露した秘密5選\\n\\nかたまりクリエイトさま\\n【検証...  \n",
      "4  家に帰ってきたサラリーマンのじゅん（安田顕）は、玄関で血を出して倒れている妻ちえ（榮倉奈々）...  \n",
      "      video_id trending_date  \\\n",
      "0  2kyS6SvSYSE      17.14.11   \n",
      "1  1ZAPwfrtAFY      17.14.11   \n",
      "2  5qpjK5DgCt4      17.14.11   \n",
      "3  puqaWrEC7tY      17.14.11   \n",
      "4  d380meD0W0M      17.14.11   \n",
      "\n",
      "                                               title          channel_title  \\\n",
      "0                 WE WANT TO TALK ABOUT OUR MARRIAGE           CaseyNeistat   \n",
      "1  The Trump Presidency: Last Week Tonight with J...        LastWeekTonight   \n",
      "2  Racist Superman | Rudy Mancuso, King Bach & Le...           Rudy Mancuso   \n",
      "3                   Nickelback Lyrics: Real or Fake?  Good Mythical Morning   \n",
      "4                           I Dare You: GOING BALD!?               nigahiga   \n",
      "\n",
      "   category_id              publish_time  \\\n",
      "0           22  2017-11-13T17:13:01.000Z   \n",
      "1           24  2017-11-13T07:30:00.000Z   \n",
      "2           23  2017-11-12T19:05:24.000Z   \n",
      "3           24  2017-11-13T11:00:04.000Z   \n",
      "4           24  2017-11-12T18:01:41.000Z   \n",
      "\n",
      "                                                tags    views   likes  \\\n",
      "0                                    SHANtell martin   748374   57527   \n",
      "1  last week tonight trump presidency|\"last week ...  2418783   97185   \n",
      "2  racist superman|\"rudy\"|\"mancuso\"|\"king\"|\"bach\"...  3191434  146033   \n",
      "3  rhett and link|\"gmm\"|\"good mythical morning\"|\"...   343168   10172   \n",
      "4  ryan|\"higa\"|\"higatv\"|\"nigahiga\"|\"i dare you\"|\"...  2095731  132235   \n",
      "\n",
      "   dislikes  comment_count                                  thumbnail_link  \\\n",
      "0      2966          15954  https://i.ytimg.com/vi/2kyS6SvSYSE/default.jpg   \n",
      "1      6146          12703  https://i.ytimg.com/vi/1ZAPwfrtAFY/default.jpg   \n",
      "2      5339           8181  https://i.ytimg.com/vi/5qpjK5DgCt4/default.jpg   \n",
      "3       666           2146  https://i.ytimg.com/vi/puqaWrEC7tY/default.jpg   \n",
      "4      1989          17518  https://i.ytimg.com/vi/d380meD0W0M/default.jpg   \n",
      "\n",
      "   comments_disabled  ratings_disabled  video_error_or_removed  \\\n",
      "0              False             False                   False   \n",
      "1              False             False                   False   \n",
      "2              False             False                   False   \n",
      "3              False             False                   False   \n",
      "4              False             False                   False   \n",
      "\n",
      "                                         description  \n",
      "0  SHANTELL'S CHANNEL - https://www.youtube.com/s...  \n",
      "1  One year after the presidential election, John...  \n",
      "2  WATCH MY PREVIOUS VIDEO ▶ \\n\\nSUBSCRIBE ► http...  \n",
      "3  Today we find out if Link is a Nickelback amat...  \n",
      "4  I know it's been a while since we did this sho...  \n"
     ]
    }
   ],
   "source": [
    "print(KR.head())\n",
    "print(JP.head())\n",
    "print(US.head())"
   ]
  },
  {
   "cell_type": "markdown",
   "metadata": {},
   "source": [
    "#### 변수명 확인"
   ]
  },
  {
   "cell_type": "code",
   "execution_count": 5,
   "metadata": {},
   "outputs": [
    {
     "data": {
      "text/plain": [
       "Index(['video_id', 'trending_date', 'title', 'channel_title', 'category_id',\n",
       "       'publish_time', 'tags', 'views', 'likes', 'dislikes', 'comment_count',\n",
       "       'thumbnail_link', 'comments_disabled', 'ratings_disabled',\n",
       "       'video_error_or_removed', 'description'],\n",
       "      dtype='object')"
      ]
     },
     "execution_count": 5,
     "metadata": {},
     "output_type": "execute_result"
    }
   ],
   "source": [
    "KR.columns"
   ]
  },
  {
   "cell_type": "markdown",
   "metadata": {},
   "source": [
    "## 목표(확인하고 싶은 insight)\n",
    "1. 평균 like 수, \n",
    "2. 일정 like 수 이상인 글의 비율\n",
    "3. like/dislike 비율\n",
    "4. category별 평균 views\n",
    "5. top 5 view category\n",
    "6. comment count/views 비율\n",
    "7. likes views 관계"
   ]
  },
  {
   "cell_type": "markdown",
   "metadata": {},
   "source": [
    "* 전체 국가를 고려하지 않고 한, 미, 일 세 개의 국가만 분석 대상으로 선택"
   ]
  },
  {
   "cell_type": "markdown",
   "metadata": {},
   "source": [
    "### 4.category별 평균 views\n",
    "각 국가에서 카테고리별 평균 조회수 확인"
   ]
  },
  {
   "cell_type": "markdown",
   "metadata": {},
   "source": [
    "각 국가의 category_id, views 변수만 추출한 데이터를 만든다."
   ]
  },
  {
   "cell_type": "code",
   "execution_count": 6,
   "metadata": {},
   "outputs": [],
   "source": [
    "KR_C = KR.loc[:,['category_id', 'views']]\n",
    "JP_C = JP.loc[:,['category_id', 'views']]\n",
    "US_C = US.loc[:,['category_id', 'views']]"
   ]
  },
  {
   "cell_type": "markdown",
   "metadata": {},
   "source": [
    "NA 확인"
   ]
  },
  {
   "cell_type": "code",
   "execution_count": 7,
   "metadata": {},
   "outputs": [
    {
     "name": "stdout",
     "output_type": "stream",
     "text": [
      "0\n",
      "0\n",
      "0\n"
     ]
    }
   ],
   "source": [
    "print(np.count_nonzero(KR_C.isnull()))\n",
    "print(np.count_nonzero(JP_C.isnull()))\n",
    "print(np.count_nonzero(US_C.isnull()))"
   ]
  },
  {
   "cell_type": "code",
   "execution_count": 8,
   "metadata": {},
   "outputs": [
    {
     "name": "stdout",
     "output_type": "stream",
     "text": [
      "category_id    34567\n",
      "views          34567\n",
      "dtype: int64\n",
      "category_id    20523\n",
      "views          20523\n",
      "dtype: int64\n",
      "category_id    40949\n",
      "views          40949\n",
      "dtype: int64\n"
     ]
    }
   ],
   "source": [
    "print(KR_C.count())\n",
    "print(JP_C.count())\n",
    "print(US_C.count())"
   ]
  },
  {
   "cell_type": "code",
   "execution_count": 9,
   "metadata": {},
   "outputs": [
    {
     "name": "stdout",
     "output_type": "stream",
     "text": [
      "[ 1  2 10 15 17 19 20 22 23 24 25 26 27 28 29 43 44]\n",
      "[ 1  2 10 15 17 19 20 22 23 24 25 26 27 28 29]\n",
      "[ 1  2 10 15 17 19 20 22 23 24 25 26 27 28 29 43]\n"
     ]
    }
   ],
   "source": [
    "print(np.sort(KR_C['category_id'].unique()))\n",
    "print(np.sort(JP_C['category_id'].unique()))\n",
    "print(np.sort(US_C['category_id'].unique()))"
   ]
  },
  {
   "cell_type": "code",
   "execution_count": 10,
   "metadata": {},
   "outputs": [],
   "source": [
    "KR_C.rename(columns = {'views' : 'views_KR'}, inplace = True)\n",
    "KR_Cmean = KR_C.groupby('category_id').mean()\n",
    "JP_C.rename(columns = {'views' : 'views_JP'}, inplace = True)\n",
    "JP_Cmean = JP_C.groupby('category_id').mean()\n",
    "US_C.rename(columns = {'views' : 'views_US'}, inplace = True)\n",
    "US_Cmean = US_C.groupby('category_id').mean()"
   ]
  },
  {
   "cell_type": "code",
   "execution_count": 11,
   "metadata": {},
   "outputs": [
    {
     "name": "stdout",
     "output_type": "stream",
     "text": [
      "                 views_KR\n",
      "category_id              \n",
      "1            5.440154e+05\n",
      "2            1.198672e+05\n",
      "10           2.080543e+06\n",
      "15           2.022284e+05\n",
      "17           5.987503e+05\n",
      "19           2.405090e+05\n",
      "20           2.814424e+05\n",
      "22           2.098027e+05\n",
      "23           3.598452e+05\n",
      "24           5.103813e+05\n",
      "25           1.546775e+05\n",
      "26           3.146176e+05\n",
      "27           1.511617e+05\n",
      "28           2.685160e+06\n",
      "29           6.316461e+04\n",
      "43           1.062983e+05\n",
      "44           1.664950e+04\n",
      "                 views_JP\n",
      "category_id              \n",
      "1            2.554023e+05\n",
      "2            8.319242e+04\n",
      "10           8.297243e+05\n",
      "15           6.271681e+04\n",
      "17           2.850889e+05\n",
      "19           1.032965e+05\n",
      "20           1.684717e+05\n",
      "22           1.500606e+05\n",
      "23           3.781614e+05\n",
      "24           2.821966e+05\n",
      "25           1.338265e+05\n",
      "26           1.356909e+05\n",
      "27           8.666788e+04\n",
      "28           1.213748e+06\n",
      "29           9.003361e+04\n",
      "                 views_US\n",
      "category_id              \n",
      "1            3.106250e+06\n",
      "2            1.355965e+06\n",
      "10           6.201003e+06\n",
      "15           8.311435e+05\n",
      "17           2.025969e+06\n",
      "19           8.546196e+05\n",
      "20           2.620831e+06\n",
      "22           1.531835e+06\n",
      "23           1.480308e+06\n",
      "24           2.067883e+06\n",
      "25           5.925877e+05\n",
      "26           9.837301e+05\n",
      "27           7.129408e+05\n",
      "28           1.452627e+06\n",
      "29           2.963884e+06\n",
      "43           9.035273e+05\n"
     ]
    }
   ],
   "source": [
    "print(KR_Cmean)\n",
    "print(JP_Cmean)\n",
    "print(US_Cmean)"
   ]
  },
  {
   "cell_type": "markdown",
   "metadata": {},
   "source": [
    "### 5.top 5 view category\n",
    "세 국가에서 인기있는 카테고리를 비교하고 평균적으로 인기있는 카테고리 알아보기"
   ]
  },
  {
   "cell_type": "code",
   "execution_count": 12,
   "metadata": {},
   "outputs": [],
   "source": [
    "CTGRY = pd.merge(KR_Cmean, JP_Cmean, on = 'category_id')\n",
    "CTGRY = pd.merge(CTGRY, US_Cmean, on = 'category_id')"
   ]
  },
  {
   "cell_type": "code",
   "execution_count": 13,
   "metadata": {},
   "outputs": [
    {
     "name": "stdout",
     "output_type": "stream",
     "text": [
      "(15, 4)\n",
      "              views_KR   views_JP   views_US  views_mean\n",
      "category_id                                             \n",
      "1             5.440154   2.554023  31.062502   13.018893\n",
      "2             1.198672   0.831924  13.559654    5.196750\n",
      "10           20.805435   8.297243  62.010031   30.370903\n",
      "15            2.022284   0.627168   8.311435    3.653629\n",
      "17            5.987503   2.850889  20.259690    9.699361\n",
      "19            2.405090   1.032965   8.546196    3.994750\n",
      "20            2.814424   1.684717  26.208306   10.235816\n",
      "22            2.098027   1.500606  15.318354    6.305662\n",
      "23            3.598452   3.781614  14.803084    7.394383\n",
      "24            5.103813   2.821966  20.678832    9.534870\n",
      "25            1.546775   1.338265   5.925877    2.936972\n",
      "26            3.146176   1.356909   9.837301    4.780128\n",
      "27            1.511617   0.866679   7.129408    3.169234\n",
      "28           26.851597  12.137482  14.526267   17.838449\n",
      "29            0.631646   0.900336  29.638841   10.390274\n"
     ]
    }
   ],
   "source": [
    "CTGRY['views_KR'] = CTGRY['views_KR']/100000\n",
    "CTGRY['views_JP'] = CTGRY['views_JP']/100000\n",
    "CTGRY['views_US'] = CTGRY['views_US']/100000\n",
    "CTGRY['views_mean'] = (CTGRY['views_KR'] + CTGRY['views_JP'] + CTGRY['views_US'])/3\n",
    "print(CTGRY.shape)\n",
    "print(CTGRY)\n",
    "#조회수 단위는 십만."
   ]
  },
  {
   "cell_type": "markdown",
   "metadata": {},
   "source": [
    "세 국가의 유튜브 조회수가 크게 차이가 난다.  \n",
    "10번 카테고리는 세 국가 모두 높은 조회수를 기록한다.  \n",
    "한국에서는 특히 28번 카테고리 조회수가 높고 미국은 1번, 29번이 높다.  \n",
    "28번은 한국과 일본 모두 조회수가 높은 데 반해 미국에서는 오히려 조회수가 낮다."
   ]
  }
 ],
 "metadata": {
  "kernelspec": {
   "display_name": "Python 3",
   "language": "python",
   "name": "python3"
  },
  "language_info": {
   "codemirror_mode": {
    "name": "ipython",
    "version": 3
   },
   "file_extension": ".py",
   "mimetype": "text/x-python",
   "name": "python",
   "nbconvert_exporter": "python",
   "pygments_lexer": "ipython3",
   "version": "3.7.3"
  }
 },
 "nbformat": 4,
 "nbformat_minor": 2
}
