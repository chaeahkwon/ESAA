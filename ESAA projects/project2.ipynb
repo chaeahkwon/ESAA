{
 "cells": [
  {
   "cell_type": "code",
   "execution_count": null,
   "metadata": {},
   "outputs": [],
   "source": [
    "import pandas as pd\n",
    "import numpy as np"
   ]
  },
  {
   "cell_type": "markdown",
   "metadata": {},
   "source": [
    "파일 불러오기"
   ]
  },
  {
   "cell_type": "code",
   "execution_count": null,
   "metadata": {},
   "outputs": [],
   "source": [
    "input_fd = open('C:/Users/user/ESAA/youtube-new/KRvideos.csv',errors = 'backslashreplace',encoding='utf-8')\n",
    "KR = pd.read_csv(input_fd, sep=',')\n",
    "\n",
    "input_fd = open('C:/Users/user/ESAA/youtube-new/JPvideos.csv', errors = 'backslashreplace',encoding='utf-8')\n",
    "JP = pd.read_csv(input_fd, sep=',')\n",
    "\n",
    "US = pd.read_csv('C:/Users/user/ESAA/youtube-new/USvideos.csv', sep=',')"
   ]
  },
  {
   "cell_type": "markdown",
   "metadata": {},
   "source": [
    "파일 확인"
   ]
  },
  {
   "cell_type": "code",
   "execution_count": null,
   "metadata": {},
   "outputs": [],
   "source": [
    "print(KR.shape)\n",
    "print(JP.shape)\n",
    "print(US.shape)"
   ]
  },
  {
   "cell_type": "markdown",
   "metadata": {},
   "source": [
    "변수명 확인"
   ]
  },
  {
   "cell_type": "code",
   "execution_count": null,
   "metadata": {},
   "outputs": [],
   "source": [
    "KR.columns"
   ]
  },
  {
   "cell_type": "markdown",
   "metadata": {},
   "source": [
    "## 목표 insight\n",
    "1. 카테고리별 평균 조회수 막대그래프\n",
    "2. 각 국가의 날짜별 총 조회수 히스토그램"
   ]
  },
  {
   "cell_type": "markdown",
   "metadata": {},
   "source": [
    "각 국가의 category_id, views 변수만 추출한 데이터를 만든다."
   ]
  },
  {
   "cell_type": "code",
   "execution_count": null,
   "metadata": {},
   "outputs": [],
   "source": [
    "KR['views'] = KR['views']/1000000\n",
    "JP['views'] = JP['views']/1000000\n",
    "US['views'] = US['views']/1000000\n",
    "\n",
    "KR_C = KR.loc[:,['category_id', 'views']]\n",
    "JP_C = JP.loc[:,['category_id', 'views']]\n",
    "US_C = US.loc[:,['category_id', 'views']]"
   ]
  },
  {
   "cell_type": "code",
   "execution_count": null,
   "metadata": {},
   "outputs": [],
   "source": [
    "KR_C.rename(columns = {'views' : 'views_KR'}, inplace = True)\n",
    "KR_Cmean = KR_C.groupby('category_id').mean().reset_index()\n",
    "JP_C.rename(columns = {'views' : 'views_JP'}, inplace = True)\n",
    "JP_Cmean = JP_C.groupby('category_id').mean().reset_index()\n",
    "US_C.rename(columns = {'views' : 'views_US'}, inplace = True)\n",
    "US_Cmean = US_C.groupby('category_id').mean().reset_index()"
   ]
  },
  {
   "cell_type": "code",
   "execution_count": null,
   "metadata": {},
   "outputs": [],
   "source": [
    "import matplotlib.pyplot as plt\n",
    "import seaborn as sns"
   ]
  },
  {
   "cell_type": "code",
   "execution_count": null,
   "metadata": {},
   "outputs": [],
   "source": [
    "print(KR_Cmean)"
   ]
  },
  {
   "cell_type": "code",
   "execution_count": null,
   "metadata": {},
   "outputs": [],
   "source": [
    "fig1 = plt.subplots()\n",
    "fig1 = sns.barplot(x = 'category_id', y = 'views_KR', data = KR_Cmean)\n",
    "fig1.set_title('Count of Views by Categories : KOREA') \n",
    "fig1.set_ylabel('Views(million)')\n",
    "\n",
    "fig2 = plt.subplots()\n",
    "fig2 = sns.barplot(x = 'category_id', y = 'views_JP', data = JP_Cmean)\n",
    "fig2.set_title('Count of Views by Categories : JAPAN') \n",
    "fig2.set_ylabel('Views(million)')\n",
    "\n",
    "fig3 = plt.subplots()\n",
    "fig3 = sns.barplot(x = 'category_id', y = 'views_US', data = US_Cmean)\n",
    "fig3.set_title('Count of Views by Categories : US') \n",
    "fig3.set_ylabel('Views(million)')"
   ]
  },
  {
   "cell_type": "markdown",
   "metadata": {},
   "source": [
    "전체 조회수의 날짜별 합계"
   ]
  },
  {
   "cell_type": "code",
   "execution_count": null,
   "metadata": {},
   "outputs": [],
   "source": [
    "KR_D = KR.loc[:,['trending_date', 'views']]\n",
    "JP_D = JP.loc[:,['trending_date', 'views']]\n",
    "US_D = US.loc[:,['trending_date', 'views']]\n",
    "\n",
    "KR_D.rename(columns = {'views' : 'views_KR'}, inplace = True)\n",
    "JP_D.rename(columns = {'views' : 'views_JP'}, inplace = True)\n",
    "US_D.rename(columns = {'views' : 'views_US'}, inplace = True)"
   ]
  },
  {
   "cell_type": "code",
   "execution_count": null,
   "metadata": {},
   "outputs": [],
   "source": [
    "KR_Dsum = KR_D.groupby('trending_date').sum().reset_index()\n",
    "JP_Dsum = JP_D.groupby('trending_date').sum().reset_index()\n",
    "US_Dsum = US_D.groupby('trending_date').sum().reset_index()"
   ]
  },
  {
   "cell_type": "code",
   "execution_count": null,
   "metadata": {},
   "outputs": [],
   "source": [
    "VIEWS = pd.merge(KR_Dsum, JP_Dsum, on = 'trending_date')\n",
    "VIEWS = pd.merge(VIEWS, US_Dsum, on = 'trending_date')\n",
    "VIEWS['views_mean'] = (VIEWS['views_KR'] + VIEWS['views_JP'] + VIEWS['views_US'])/3"
   ]
  },
  {
   "cell_type": "code",
   "execution_count": null,
   "metadata": {},
   "outputs": [],
   "source": [
    "fig4 = plt.subplots()\n",
    "fig4 = sns.barplot(x = 'trending_date', y = 'views_mean', data = VIEWS)\n",
    "fig4.set_title('Daily Count of Views') \n",
    "fig4.set_ylabel('Views(million)')"
   ]
  }
 ],
 "metadata": {
  "kernelspec": {
   "display_name": "Python 3",
   "language": "python",
   "name": "python3"
  },
  "language_info": {
   "codemirror_mode": {
    "name": "ipython",
    "version": 3
   },
   "file_extension": ".py",
   "mimetype": "text/x-python",
   "name": "python",
   "nbconvert_exporter": "python",
   "pygments_lexer": "ipython3",
   "version": "3.7.3"
  }
 },
 "nbformat": 4,
 "nbformat_minor": 2
}
